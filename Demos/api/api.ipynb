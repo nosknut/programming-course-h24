{
 "cells": [
  {
   "cell_type": "markdown",
   "metadata": {},
   "source": [
    "# API"
   ]
  },
  {
   "cell_type": "code",
   "execution_count": 50,
   "metadata": {},
   "outputs": [],
   "source": [
    "from flask import request\n",
    "from flask import Flask\n",
    "import urllib.parse\n",
    "import requests\n",
    "from urllib.parse import urlencode\n",
    "import datetime\n",
    "import hashlib\n",
    "import socket\n",
    "import qrcode\n",
    "import json\n",
    "\n",
    "app = Flask(__name__)"
   ]
  },
  {
   "cell_type": "markdown",
   "metadata": {},
   "source": [
    "## Minimal Example"
   ]
  },
  {
   "cell_type": "markdown",
   "metadata": {},
   "source": [
    "Run the code below and open http://localhost:3001/ in your browser to see the message `Hello, World!`. When you are done, click the stop button on the left of the cell below."
   ]
  },
  {
   "cell_type": "code",
   "execution_count": null,
   "metadata": {},
   "outputs": [],
   "source": [
    "app = Flask(__name__)\n",
    "\n",
    "@app.route('/')\n",
    "def hello_world():\n",
    "    return 'Hello, World!'\n",
    "\n",
    "app.run(port=3001, host=\"0.0.0.0\")"
   ]
  },
  {
   "cell_type": "markdown",
   "metadata": {},
   "source": [
    "## Routing Example"
   ]
  },
  {
   "cell_type": "markdown",
   "metadata": {},
   "source": [
    "The url consists of a few different components. The most relevant parts now are:\n",
    "- The hostname (ex: \"localhost\", \"google.com\" or \"192.168.1.1\")\n",
    "- The port (ex: \"3001\", \"80\" or \"443\")\n",
    "- The path (ex: \"/\", \"joke\" \"/poems/roses\" or \"/poems/math\").\n",
    "\n",
    "The \"/\"\" path is usually referred to as the \"root\" path. The path in the URL allows the API to have different functionality attached to it. Run the code below and open the /poems/roses path: http://localhost:3001/poems/roses in your browser to see a different message. Try editing the URL in your browser to access the two other paths as well. Notice the \"hello_world()\" function was added to the api as the root path handler earlier. Try to access it by changing the path to \"/\". Is it still available?"
   ]
  },
  {
   "cell_type": "code",
   "execution_count": null,
   "metadata": {},
   "outputs": [],
   "source": [
    "@app.route('/poems/roses')\n",
    "def roses_poem_path_handler():\n",
    "    return 'Roses are red, violets are blue, I am a poet, and I know it!'\n",
    "\n",
    "@app.route('/poems/math')\n",
    "def math_poem_path_handler():\n",
    "    return 'Math is fun, it is true, I love math, and so should you!'\n",
    "\n",
    "@app.route('/joke')\n",
    "def joke_path_handler():\n",
    "    return 'Why did the chicken cross the road? To get to the other side!'\n",
    "\n",
    "app.run(port=3001, host=\"0.0.0.0\")"
   ]
  },
  {
   "cell_type": "markdown",
   "metadata": {},
   "source": [
    "## URL Parameter Example"
   ]
  },
  {
   "cell_type": "markdown",
   "metadata": {},
   "source": [
    "Url's can have parameters in them. The Query String in the URL takes the following shape: `?key1=value1&key2=value2`. As an example, run the server and open http://localhost:3001/calculator?a=1&b=2&c=3 in your browser. Try to modify the values of a, b and c."
   ]
  },
  {
   "cell_type": "code",
   "execution_count": null,
   "metadata": {},
   "outputs": [],
   "source": [
    "@app.route('/calculator')\n",
    "def calculator_path_handler():\n",
    "    a = int(request.args.get('a'))\n",
    "    b = int(request.args.get('b'))\n",
    "    c = int(request.args.get('c'))\n",
    "    result = a + b + c\n",
    "    return f'{a} + {b} + {c} = {result}'\n",
    "\n",
    "app.run(port=3001, host=\"0.0.0.0\")"
   ]
  },
  {
   "cell_type": "markdown",
   "metadata": {},
   "source": [
    "Some characters will break the url. For example, a url can not have spaces: http://localhost:3001/people?name=Peter Parker. The space between Peter and Parker will break the url. To fix this we use URL encoding, which replaces invalid characters with a % and a hexadecimal number. Spaces will for example be replaced with a + or %20: http://localhost:3001/people?name=Peter%20Parker. String URL Parameters should always be URL encoded by the client and the server should always decode them. Run the code below and open the link with the URL encoded version of Peter Parker."
   ]
  },
  {
   "cell_type": "code",
   "execution_count": null,
   "metadata": {},
   "outputs": [],
   "source": [
    "@app.route('/people')\n",
    "def people_path_handler():\n",
    "    # Flask automatically decodes the name\n",
    "    name = request.args.get('name')\n",
    "    \n",
    "    return f\"Decoded: {name}\"\n",
    "\n",
    "app.run(port=3001, host=\"0.0.0.0\")"
   ]
  },
  {
   "cell_type": "markdown",
   "metadata": {},
   "source": [
    "Below is an example of how to encode and decode a string programmatically."
   ]
  },
  {
   "cell_type": "code",
   "execution_count": null,
   "metadata": {},
   "outputs": [],
   "source": [
    "text = \"Some kind of #weird @strange /message with + symbols.\"\n",
    "encoded = urllib.parse.quote(text)\n",
    "decoded = urllib.parse.unquote(encoded)\n",
    "\n",
    "print(f\"Original: {text}\")\n",
    "print(f\"Encoded: {encoded}\")\n",
    "print(f\"Decoded: {decoded}\")"
   ]
  },
  {
   "cell_type": "markdown",
   "metadata": {},
   "source": [
    "## URL Path Parameter Example"
   ]
  },
  {
   "cell_type": "markdown",
   "metadata": {},
   "source": [
    "Some times it makes sense to make a part of the URL a paraemeter. Run the code below and open http://localhost:3001/people/Peter%20Parker/hobbies and http://localhost:3001/people/Batman/hobbies. Notice how the first name is URL encoded when you open the URL in your browser, and the server automatically decodes it."
   ]
  },
  {
   "cell_type": "code",
   "execution_count": null,
   "metadata": {},
   "outputs": [],
   "source": [
    "@app.route('/people/<name>/hobbies')\n",
    "def people_hobbies_path_handler(name):\n",
    "    \n",
    "    hobby_list = {\n",
    "        \"Peter Parker\": [\"Photography\", \"Science\", \"Web-slinging\"],\n",
    "        \"Batman\": [\"Money\", \"Gadgets\", \"Justice\"],\n",
    "    }\n",
    "    \n",
    "    hobbies = hobby_list.get(name)\n",
    "    \n",
    "    # Respond with 404 page not found http status code if the person does not exist\n",
    "    if hobbies is None:\n",
    "        return \"Person not found\", 404\n",
    "    \n",
    "    return hobbies\n",
    "\n",
    "app.run(port=3001, host=\"0.0.0.0\")"
   ]
  },
  {
   "cell_type": "markdown",
   "metadata": {},
   "source": [
    "# JSON Example"
   ]
  },
  {
   "cell_type": "markdown",
   "metadata": {},
   "source": [
    "Most API's today use JSON as the data format. This makes it easy to read for computers, and every programming language is able to parse it. Run the code below and open http://localhost:3001/json/example in your browser to see a JSON response."
   ]
  },
  {
   "cell_type": "code",
   "execution_count": null,
   "metadata": {},
   "outputs": [],
   "source": [
    "@app.route(\"/json/example\")\n",
    "def json_example_path_handler():\n",
    "    return {\n",
    "        \"databaseName\": \"people\",\n",
    "        \"numEntries\": 2,\n",
    "        \"readOnly\": True,\n",
    "        \"entries\": {\n",
    "            \"size\": 2,\n",
    "            \"values\": [\n",
    "                { \"name\": \"Alice\", \"age\": 25 },\n",
    "                { \"name\": \"Bob\", \"age\": 30 }\n",
    "            ]\n",
    "        }\n",
    "    }\n",
    "\n",
    "app.run(port=3001, host=\"0.0.0.0\")"
   ]
  },
  {
   "cell_type": "markdown",
   "metadata": {},
   "source": [
    "# HTTP Request Methods"
   ]
  },
  {
   "cell_type": "markdown",
   "metadata": {},
   "source": [
    "So far we have been using the browser to access the api. The browser uses http GET method. The most common methods are:\n",
    "- GET: Used to request data from a server.\n",
    "- POST: Used to send data to a server to create a resource.\n",
    "- DELETE: Used to delete a resource.\n",
    "- PUT: Used to update a resource.\n",
    "\n",
    "A \"resource\" usually refers to some kind of information stored somewhere like a database.\n",
    "\n",
    "If you want to send structured information to an API, the POST method is usually used as it is able to send a body with the request. While URL parameters can be used for this, it is not suitable for large amounts of information, and is typically used for search parameters such as filtering by name in a phone number database."
   ]
  },
  {
   "cell_type": "markdown",
   "metadata": {},
   "source": [
    "Run the [json_api_demo.py](json_api_demo.py) code to host an endpoint that accepts POST requests. Notice the endpoint is set to POST using `methods=['POST']` next to the route, and run the code below to fetch the data from the API."
   ]
  },
  {
   "cell_type": "code",
   "execution_count": null,
   "metadata": {},
   "outputs": [],
   "source": [
    "url = 'http://localhost:3003/sum'\n",
    "\n",
    "payload = {\n",
    "    'a': 1,\n",
    "    'b': 2,\n",
    "    'c': 3\n",
    "}\n",
    "\n",
    "response = requests.post(url, json=payload)\n",
    "\n",
    "print(response.text)\n",
    "\n",
    "# Parse the response from JSON String to Python Dictionary\n",
    "data = response.json()\n",
    "\n",
    "# Extract the sum field\n",
    "result = data['sum']\n",
    "\n",
    "print(\"Sum:\", result)"
   ]
  },
  {
   "cell_type": "markdown",
   "metadata": {},
   "source": [
    "Run the code below to perform the same operation using the GET endpoint on the same path. This can also be done from your browser."
   ]
  },
  {
   "cell_type": "code",
   "execution_count": null,
   "metadata": {},
   "outputs": [],
   "source": [
    "base_url = 'http://localhost:3003/sum'\n",
    "\n",
    "url_params = {'a': 1, 'b': 2, 'c': 3}\n",
    "# Programmatically constructing the Query String\n",
    "query_string = urlencode(url_params)\n",
    "url = f\"{base_url}?{query_string}\"\n",
    "print(\"Url:\", url)\n",
    "\n",
    "response = requests.get(url)\n",
    "print(response.text)\n",
    "print(\"Sum:\", data['sum'])"
   ]
  },
  {
   "cell_type": "markdown",
   "metadata": {},
   "source": [
    "## Ports Example"
   ]
  },
  {
   "cell_type": "markdown",
   "metadata": {},
   "source": [
    "Your computers network card has a large number of \"ports\". An application, like the webserver/API, can attach itself to one of these ports, and when another application such as a web browser requests information from your computer, it will do so with a specific port/application/endpoint in mind."
   ]
  },
  {
   "cell_type": "markdown",
   "metadata": {},
   "source": [
    "Run the first webserver below as before, and then create a new webserver on a different port by running [api_ports_demo.py](api_ports_demo.py). The first endpoint can be accessed on http://localhost:3001, and the second on http://localhost:3002. Test it in your browser and notice the difference in URL's responses. Remeber to close both webservers when you are done. The first is closed by pressing stop as before, and the second is stopped by clicking the terminal below and pressing CTRL+C."
   ]
  },
  {
   "cell_type": "code",
   "execution_count": null,
   "metadata": {},
   "outputs": [],
   "source": [
    "app.run(port=3001, host=\"0.0.0.0\")"
   ]
  },
  {
   "cell_type": "markdown",
   "metadata": {},
   "source": [
    "The default port for the http protocol is 80. Try starting the server on port 80 and open the url in your browser without specifying a port http://localhost. NB! If you have an existing application running on port 80, you will get an access denied error. If this is the case, move along to the next step instead of wasting time on debugging it."
   ]
  },
  {
   "cell_type": "code",
   "execution_count": null,
   "metadata": {},
   "outputs": [],
   "source": [
    "app.run(port=80, host=\"0.0.0.0\")"
   ]
  },
  {
   "cell_type": "markdown",
   "metadata": {},
   "source": [
    "The default port for https (http secure) is 443. Try to open it https://localhost. You will likely get a warning saying the site is not secure. What makes a https endpoint secure is TLS certificates. These are not covered in this tutorial, but now you know what the security message means. Stop the sever when you are done."
   ]
  },
  {
   "cell_type": "code",
   "execution_count": null,
   "metadata": {},
   "outputs": [],
   "source": [
    "app.run(port=443, host=\"0.0.0.0\")"
   ]
  },
  {
   "cell_type": "markdown",
   "metadata": {},
   "source": [
    "## Hostname Example"
   ]
  },
  {
   "cell_type": "markdown",
   "metadata": {},
   "source": [
    "So far you have accessed the api using \"localhost\" as your ipaddress/origin/hostname. Hostnames are a human readable shorthand for IP addresses, the same way your name is a shorthand for your phone number.\n",
    "\n",
    "Other devices on your network will not be able to find your API using \"localhost\". Many computers however have mDNS (Multicast DNS), which allows other devices on your network to find your computer by its configured name/hostname.\n",
    "\n",
    "Run the code below to find your hostname, or run the \"`hostname`\" command in a terminal. This might not work on all devices, and does not work by default on Arduino without an mDNS library."
   ]
  },
  {
   "cell_type": "code",
   "execution_count": null,
   "metadata": {},
   "outputs": [],
   "source": [
    "# Get the current hostname\n",
    "hostname = socket.gethostname()\n",
    "print(\"hostname:\", hostname)\n",
    "print(\"url:\", f\"http://{hostname}:3001\")\n",
    "print(\"-----------------------------\")\n",
    "\n",
    "app.run(port=3001, host=\"0.0.0.0\")"
   ]
  },
  {
   "cell_type": "markdown",
   "metadata": {},
   "source": [
    "Now try to use your local IP Address instead of the hostname. You can find your local IP Address by running the code below, or by running \"`ipconfig`\" in your terminal and looking for the IPv4 Address on your WiFi/Ethernet card depending on which type of connection you are currently using."
   ]
  },
  {
   "cell_type": "code",
   "execution_count": null,
   "metadata": {},
   "outputs": [],
   "source": [
    "# Get the current IP address\n",
    "ip_address = socket.gethostbyname(socket.gethostname())\n",
    "print(\"ip_address:\", ip_address)\n",
    "print(\"url:\", f\"http://{ip_address}:3001\")\n",
    "print(\"-----------------------------\")\n",
    "\n",
    "app.run(port=3001, host=\"0.0.0.0\")"
   ]
  },
  {
   "cell_type": "markdown",
   "metadata": {},
   "source": [
    "## Accessing endpoint from a different device"
   ]
  },
  {
   "cell_type": "markdown",
   "metadata": {},
   "source": [
    "You have so far only accessed the API from the same computer that is hosting it. Try to connect your phone and computer to the same network (WiFi hotsport will also work), and use the IP Address from earlier to access the API from your phone. Note some networks don't allow Peer To Peer connections, and so this might not work on your Institutional WiFi. You can also try to use the hostname. Remember to run the server and include the port, as well as stopping the server when you are done."
   ]
  },
  {
   "cell_type": "markdown",
   "metadata": {},
   "source": [
    "NB! Run all the cells down to the app.run() one before attempting to connect."
   ]
  },
  {
   "cell_type": "code",
   "execution_count": null,
   "metadata": {},
   "outputs": [],
   "source": [
    "hostname = socket.gethostname()\n",
    "\n",
    "print(\"hostname:\", f\"http://{hostname}:3001\")\n",
    "print(\"url:\", f\"http://{hostname}:3001\")\n",
    "qrcode.make(f\"http://{hostname}:3001\")"
   ]
  },
  {
   "cell_type": "code",
   "execution_count": null,
   "metadata": {},
   "outputs": [],
   "source": [
    "ip_address = socket.gethostbyname(hostname)\n",
    "\n",
    "print(\"IP Address:\", ip_address)\n",
    "print(\"url:\", f\"http://{ip_address}:3001\")\n",
    "qrcode.make(f\"http://{ip_address}:3001\")"
   ]
  },
  {
   "cell_type": "markdown",
   "metadata": {},
   "source": [
    "NB! Run all the cells down to the app.run() one before attempting to connect."
   ]
  },
  {
   "cell_type": "code",
   "execution_count": null,
   "metadata": {},
   "outputs": [],
   "source": [
    "app.run(port=3001, host=\"0.0.0.0\")"
   ]
  },
  {
   "cell_type": "markdown",
   "metadata": {},
   "source": [
    "## Access control"
   ]
  },
  {
   "cell_type": "markdown",
   "metadata": {},
   "source": [
    "Many API's will limit by which address they can be accessed to avoid man-in-the-middle attacks. Try to run the server without the `host=\"0.0.0.0\"`. It will now only allow connections by \"localhost\", and refuse connections by IP Address. Try using both localhost and ip address from your pc, and ip address from your phone. Only the localhost on your pc will work."
   ]
  },
  {
   "cell_type": "markdown",
   "metadata": {},
   "source": [
    "NB! Run all the cells down to the app.run() one before attempting to connect."
   ]
  },
  {
   "cell_type": "code",
   "execution_count": null,
   "metadata": {},
   "outputs": [],
   "source": [
    "ip_address = socket.gethostbyname(hostname)\n",
    "\n",
    "print(\"IP Address:\", ip_address)\n",
    "print(\"Ip url:\", f\"http://{ip_address}:3001\")\n",
    "print(\"localhost url:\", f\"http://localhost:3001\")\n",
    "qrcode.make(f\"http://{ip_address}:3001\")"
   ]
  },
  {
   "cell_type": "code",
   "execution_count": null,
   "metadata": {},
   "outputs": [],
   "source": [
    "app.run(port=3001)"
   ]
  },
  {
   "cell_type": "markdown",
   "metadata": {},
   "source": [
    "# Environment Variables"
   ]
  },
  {
   "cell_type": "markdown",
   "metadata": {},
   "source": [
    "Passwords, API keys, and other sensitive information should never be hardcoded. Similarly, configuration details that vary between development, testing, and production should be stored in environment variables. These variables allow you to pass configuration to your application without altering the code, acting as parameters for the entire codebase. This is very similar to how one would pass parameters to a function. They are stored in the terminal and, when hosting your API on a cloud server, you typically use a secure method to enter them. For example, to configure the port number and host dynamically, use environment variables. Run the following command in your terminal to execute the example [env_demo.py](env_demo.py):\n",
    "\n",
    "Windows PowerShell\n",
    "```bash\n",
    "$env:PORT=3001; $env:HOST=\"0.0.0.0\"; python Demos/api/env_demo.py\n",
    "```\n",
    "\n",
    "Mac Terminal\n",
    "```bash\n",
    "PORT=3001 HOST=\"0.0.0.0\" python Demos/api/env_demo.py\n",
    "```\n",
    "\n",
    "Linux Terminal\n",
    "```bash\n",
    "export PORT=3001 HOST=\"0.0.0.0\" python Demos/api/env_demo.py\n",
    "```"
   ]
  },
  {
   "cell_type": "markdown",
   "metadata": {},
   "source": [
    "# Dotenv File"
   ]
  },
  {
   "cell_type": "markdown",
   "metadata": {},
   "source": [
    "During testing and development it is impractical to pass every environment variable as a command line argument. Instead, you can use a `.env` file to store these variables. This file would typically include sensitive information such as passwords and API keys, and should never be in your git repository, **including private ones**. Removing the file from your repository after the fact will not get rid of it, because the file will still remain in your git history. For this reason, the .env file should be added to the [.gitignore](.gitignore) file. Typically one would create a [example.env](example.env) file as a template that contains all the variables without the actual values. The developer then makes a copy of it named [.env](.env). Copy the example file, name it .env and enter the values for port and host. Run the code below to see how the .env file is loaded and used.\n",
    "\n",
    "The file should be in the same folder as this notebook, and named `\".env\"`. Its contents when you are done should be:\n",
    "```\n",
    "PORT=3001\n",
    "HOST=0.0.0.0\n",
    "```"
   ]
  },
  {
   "cell_type": "code",
   "execution_count": null,
   "metadata": {},
   "outputs": [],
   "source": [
    "import os\n",
    "from dotenv import load_dotenv\n",
    "\n",
    "# Load environment variables from .env file\n",
    "load_dotenv()\n",
    "\n",
    "# Access the PORT_NUMBER variable\n",
    "port_number = os.getenv(\"PORT\")\n",
    "host = os.getenv(\"HOST\")\n",
    "\n",
    "# Check if the PORT_NUMBER environment variable is set, otherwise throw an error\n",
    "if not port_number:\n",
    "    raise ValueError(\"PORT_NUMBER environment variable is not set\")\n",
    "\n",
    "# Check if the HOST environment variable is set, otherwise throw an error\n",
    "if not host:\n",
    "    raise ValueError(\"HOST environment variable is not set\")\n",
    "\n",
    "print(\"The value of the PORT env variable is: \", port_number)\n",
    "print(\"The value of the HOST env variable is: \", host)"
   ]
  },
  {
   "cell_type": "markdown",
   "metadata": {},
   "source": [
    "# Passwords"
   ]
  },
  {
   "cell_type": "markdown",
   "metadata": {},
   "source": [
    "Passwords should never be stored as plain text. Instead they should be hashed. A hashing algorithm will take a password and use it to generate a semi-random string of text that can only be reproduced using that exact password. This means that even if the database is stolen, the hacker can not use the passwords to log in. Typically one would use a common hashing algorithm such as sha256, however since a hashing algorithm by design is semi-random and always produces the same output for the same input, this means someone could potentially generate a large database of the 10 million most common passwords, and then simply compare the hashes. To prevent this it is necessary to \"salt\" the password, which typically means simply adding a random string to it. Run the code below to see an example."
   ]
  },
  {
   "cell_type": "code",
   "execution_count": null,
   "metadata": {},
   "outputs": [],
   "source": [
    "alice_password = \"12345678\"\n",
    "arne_password = \"a\"\n",
    "\n",
    "salt = \"this will be added to every password before hashing, and if changed the passwords will all become invalid\"\n",
    "\n",
    "user_database = {\n",
    "    \"alice\": {\n",
    "        \"username\": \"alice\",\n",
    "        \"email\": \"alice@example.com\",\n",
    "        \"password_hash\": \"bc4b5f48b605e8d6ce1eaf06cedac6b34d0519a6ed65bcf3f6706627d4354beb\"\n",
    "    },\n",
    "    \"arne\": {\n",
    "        \"username\": \"arne\",\n",
    "        \"email\": \"arne@example.com\",\n",
    "        \"password_hash\": \"addcf84a5578884c8735594791e62045ea353864a79c1a934da9e96bdf517178\"\n",
    "    }\n",
    "}\n",
    "\n",
    "def hash_password(password, salt):\n",
    "    # Concatenate the password and salt\n",
    "    salted_password = salt + password\n",
    "    \n",
    "    # Hash the salted password using SHA256 algorithm\n",
    "    return hashlib.sha256(salted_password.encode()).hexdigest()\n",
    "\n",
    "def check_password(username, password, salt):\n",
    "    # Get the user from the database\n",
    "    user = user_database.get(username)\n",
    "    \n",
    "    # If the user does not exist, return False\n",
    "    if user is None:\n",
    "        return False\n",
    "    \n",
    "    # Hash the password\n",
    "    hashed_password = hash_password(password, salt)\n",
    "    \n",
    "    stored_password_hash = user[\"password_hash\"]\n",
    "    \n",
    "    # Check if the hashed password matches the one stored in the database\n",
    "    password_is_correct = hashed_password == stored_password_hash\n",
    "    \n",
    "    return password_is_correct\n",
    "\n",
    "print(\"Alice password:\", alice_password)\n",
    "print(\"Alice hash:\", hash_password(alice_password, salt))\n",
    "print(\"Check Alice's password: \", check_password(\"alice\", alice_password, salt))\n",
    "\n",
    "print(\"\\nArne password:\", arne_password)\n",
    "print(\"Arne hash:\", hash_password(arne_password, salt))\n",
    "print(\"Check Arne's password: \", check_password(\"arne\", arne_password, salt))\n",
    "\n",
    "print(\"\\nUsing different salt:\")\n",
    "different_salt = \"since this salt was not used when hashing the passwords in the database, checks using this salt will fail\"\n",
    "print(\"Check Alice's password: \", check_password(\"alice\", alice_password, different_salt))\n",
    "print(\"Check Arne's password: \", check_password(\"arne\", arne_password, different_salt))\n"
   ]
  },
  {
   "cell_type": "markdown",
   "metadata": {},
   "source": [
    "## Advanced: Access Tokens and Full Demo"
   ]
  },
  {
   "cell_type": "markdown",
   "metadata": {},
   "source": [
    "If you just want to learn the basics, stop here. If you are interested in a full demonstration of how to design an API with authentication, keep reading."
   ]
  },
  {
   "cell_type": "markdown",
   "metadata": {},
   "source": [
    "Some times an API should only allow people do access their own information. For example in spotify, you should be the only one able to change your account information. To identify a user, it would be necessary to add the password to every http request. This is not very secure considering many use the same passwords on multiple websites, and if someone were to intercept one of the requests they would have access to all the users accounts. Instead, an access token is used. A token is a random string of text that is generated by the server when you log in, and is then stored in the web browser and sent with every request. Tokens will typically expire after a certain amount of time, and to refresh them the user must log back in. The server can then check if the token is valid, and if it is, it can be used to identify the user. The token is typically sent in the header of the request, and not in the URL Query String or the Body.\n",
    "\n",
    "The file [access_token_demo.py](access_token_demo.py) contains an example of a complete API. It serves an API using [access_token_demo_database.json](access_token_demo_database.json) as a database, and gets its environment variables from [access_token_demo.env](access_token_demo.env). Run the demo script to continue.\n"
   ]
  },
  {
   "cell_type": "markdown",
   "metadata": {},
   "source": [
    "### Example API Docs\n",
    "\n",
    "The API above has the following paths/endpoints:\n",
    "\n",
    "- /users\n",
    "  - [POST]: Takes a username, password, age and email, and creates a new user.\n",
    "- /users/\\<username>\n",
    "  - [DELETE]: Deletes the user with the given username.\n",
    "- /users/\\<username>/profile\n",
    "  - [GET]: Returns the profile of the user with the given username.\n",
    "  - [PUT]: Updates the user with the given username.\n",
    "- /users/\\<username>/grades\n",
    "  - [GET]: Returns the grades of the user with the given username.\n",
    "  - [POST]: Creates a document of the users grades.\n",
    "  - [DELETE]: Deletes all the grades of the user with the given username.\n",
    "- /users/\\<username>/tokens\n",
    "  - [POST]: Creates a new access token based on a username, password and device_name.\n",
    "  - [GET]: Lists all access tokens related to this account.\n",
    "- /users/\\<username>/tokens/\\<token>\n",
    "  - [GET] Returns the information about the token.\n",
    "  - [DELETE]: Deletes the token (same as logging out).\n"
   ]
  },
  {
   "cell_type": "markdown",
   "metadata": {},
   "source": [
    "Run the following cells to show how the client should interact with the API "
   ]
  },
  {
   "cell_type": "markdown",
   "metadata": {},
   "source": [
    "### Delete Example Users"
   ]
  },
  {
   "cell_type": "code",
   "execution_count": 51,
   "metadata": {},
   "outputs": [
    {
     "name": "stdout",
     "output_type": "stream",
     "text": [
      "{\"message\":\"Database cleared\"}\n",
      "\n"
     ]
    }
   ],
   "source": [
    "print(requests.delete(\"http://localhost:3001/database\").text)"
   ]
  },
  {
   "cell_type": "markdown",
   "metadata": {},
   "source": [
    "### Creating a new user"
   ]
  },
  {
   "cell_type": "code",
   "execution_count": 52,
   "metadata": {
    "vscode": {
     "languageId": "ruby"
    }
   },
   "outputs": [
    {
     "name": "stdout",
     "output_type": "stream",
     "text": [
      "Http Status Code:  200 OK\n",
      "Http Response Body: \n",
      "{\n",
      "    \"access_token\": {\n",
      "        \"device_name\": \"Arne's PC\",\n",
      "        \"expires\": 1732223960.094133,\n",
      "        \"token\": \"1aHQCEKpiAmlt-GsoR_QtzfKBXvkAqQpvxTwj6fT2S0\",\n",
      "        \"username\": \"Arne\"\n",
      "    },\n",
      "    \"url\": \"/users/Arne\",\n",
      "    \"user\": {\n",
      "        \"age\": 29,\n",
      "        \"email\": \"arne@example.com\",\n",
      "        \"username\": \"Arne\"\n",
      "    }\n",
      "}\n"
     ]
    }
   ],
   "source": [
    "# Send a POST request to create a new user\n",
    "response = requests.post(\"http://localhost:3001/users\", json={\n",
    "    \"username\": \"Arne\",\n",
    "    \"password\": \"password123\",\n",
    "    \"age\": 29,\n",
    "    \"email\": \"arne@example.com\",\n",
    "    \"device_name\": \"Arne's PC\",\n",
    "    \"roles\": [\"teacher\", \"student\"]\n",
    "})\n",
    "\n",
    "print(\"Http Status Code: \", response.status_code, response.reason)\n",
    "\n",
    "body = response.json()\n",
    "print(\"Http Response Body: \")\n",
    "print(json.dumps(body, indent=4))\n",
    "\n",
    "arne_access_token = body[\"access_token\"][\"token\"]"
   ]
  },
  {
   "cell_type": "markdown",
   "metadata": {},
   "source": [
    "### Get user profile using the access token"
   ]
  },
  {
   "cell_type": "markdown",
   "metadata": {},
   "source": [
    "If one attempts to access an endpoint locked behind authorization without the access token, the request will be refused."
   ]
  },
  {
   "cell_type": "code",
   "execution_count": 53,
   "metadata": {},
   "outputs": [
    {
     "name": "stdout",
     "output_type": "stream",
     "text": [
      "Http Stats Code: 401 UNAUTHORIZED\n",
      "{\"error\":\"Missing access token\"}\n",
      "\n"
     ]
    }
   ],
   "source": [
    "response = requests.get(\"http://localhost:3001/users/Arne/profile\")\n",
    "\n",
    "print(\"Http Stats Code:\", response.status_code, response.reason)\n",
    "print(response.text)"
   ]
  },
  {
   "cell_type": "markdown",
   "metadata": {},
   "source": [
    "When adding the access token, the response will be successful. The access token is prefixed with \"Bearer \" to indicate the type of authorization (this is an industry standard)."
   ]
  },
  {
   "cell_type": "code",
   "execution_count": 54,
   "metadata": {},
   "outputs": [
    {
     "name": "stdout",
     "output_type": "stream",
     "text": [
      "Http Stats Code: 200 OK\n",
      "Body:\n",
      "{\n",
      "    \"age\": 29,\n",
      "    \"email\": \"arne@example.com\",\n",
      "    \"username\": \"Arne\"\n",
      "}\n"
     ]
    }
   ],
   "source": [
    "auth_header = {\n",
    "    \"Authorization\": f\"Bearer {arne_access_token}\" \n",
    "}\n",
    "\n",
    "response = requests.get(\"http://localhost:3001/users/Arne/profile\", headers=auth_header)\n",
    "\n",
    "print(\"Http Stats Code:\", response.status_code, response.reason)\n",
    "\n",
    "body = response.json()\n",
    "print(\"Body:\")\n",
    "print(json.dumps(body, indent=4))"
   ]
  },
  {
   "cell_type": "markdown",
   "metadata": {},
   "source": [
    "### Adding Grades"
   ]
  },
  {
   "cell_type": "code",
   "execution_count": 55,
   "metadata": {},
   "outputs": [
    {
     "data": {
      "text/plain": [
       "{'english': 4, 'math': 5}"
      ]
     },
     "execution_count": 55,
     "metadata": {},
     "output_type": "execute_result"
    }
   ],
   "source": [
    "response = requests.post(\"http://localhost:3001/users/Arne/grades\", headers=auth_header, json={\n",
    "    \"math\": 5,\n",
    "    \"english\": 4\n",
    "})\n",
    "\n",
    "response.json()"
   ]
  },
  {
   "cell_type": "markdown",
   "metadata": {},
   "source": [
    "### Updating Grades"
   ]
  },
  {
   "cell_type": "markdown",
   "metadata": {},
   "source": [
    "When a resource alredy exists, a POST endpoint should typically fail. POST is for creating new resources, not updating them. Some times however, developers are lazy. The developer of this perticular endpoint added no guard against this, and so the grades are simply quietly updated."
   ]
  },
  {
   "cell_type": "code",
   "execution_count": 56,
   "metadata": {},
   "outputs": [
    {
     "data": {
      "text/plain": [
       "{'english': 2, 'math': 3}"
      ]
     },
     "execution_count": 56,
     "metadata": {},
     "output_type": "execute_result"
    }
   ],
   "source": [
    "requests.post(\"http://localhost:3001/users/Arne/grades\", headers=auth_header, json={\n",
    "    \"math\": 3,\n",
    "    \"english\": 2\n",
    "}).json()"
   ]
  },
  {
   "cell_type": "markdown",
   "metadata": {},
   "source": [
    "### Updateing User Profile"
   ]
  },
  {
   "cell_type": "markdown",
   "metadata": {},
   "source": [
    "In the case of the user, the POST request will fail if the username is taken. Imagine if someone tries to make a new user, and instead updates an existing one because they picked the same name! The code below was intended to update the users age to 30, but it fails because in reality a user data update should use the UPDATE endpoint. You can tell which one should be used by reading the [documentation](#example-api-docs) or [source code](access_token_demo.py) of the API."
   ]
  },
  {
   "cell_type": "code",
   "execution_count": 57,
   "metadata": {},
   "outputs": [
    {
     "name": "stdout",
     "output_type": "stream",
     "text": [
      "Http Status Code:  400 BAD REQUEST\n",
      "Http Response Body:  {'error': 'User already exists'}\n"
     ]
    }
   ],
   "source": [
    "response = requests.post(\"http://localhost:3001/users\", json={\n",
    "    \"username\": \"Arne\",\n",
    "    \"password\": \"password123\",\n",
    "    \"age\": 30,\n",
    "    \"email\": \"arne@example.com\",\n",
    "    \"device_name\": \"Arne's PC\",\n",
    "    \"roles\": [\"teacher\", \"student\"]\n",
    "})\n",
    "\n",
    "print(\"Http Status Code: \", response.status_code, response.reason)\n",
    "print(\"Http Response Body: \", response.json())"
   ]
  },
  {
   "cell_type": "markdown",
   "metadata": {},
   "source": [
    "Now lets try doing it the right way (or at least the way the current backend developer intended). Notice how the POST endpoint for creating a new user includes additional information, that does not make sense to include in the PUT endpoint for updating a user."
   ]
  },
  {
   "cell_type": "code",
   "execution_count": 58,
   "metadata": {},
   "outputs": [
    {
     "name": "stdout",
     "output_type": "stream",
     "text": [
      "Http Status Code:  200 OK\n",
      "Http Response Body:  {'age': 30, 'email': 'arne@example.com', 'username': 'Arne'}\n"
     ]
    }
   ],
   "source": [
    "response = requests.put(\n",
    "    \"http://localhost:3001/users/Arne/profile\",\n",
    "    headers=auth_header,\n",
    "    json={\n",
    "        \"username\": \"Arne\",\n",
    "        \"age\": 30,\n",
    "        \"email\": \"arne@example.com\",\n",
    "    }\n",
    ")\n",
    "\n",
    "print(\"Http Status Code: \", response.status_code, response.reason)\n",
    "print(\"Http Response Body: \", response.json())"
   ]
  },
  {
   "cell_type": "markdown",
   "metadata": {},
   "source": [
    "### Log Out"
   ]
  },
  {
   "cell_type": "markdown",
   "metadata": {},
   "source": [
    "Lets log out by invalidating/deleting the access token."
   ]
  },
  {
   "cell_type": "code",
   "execution_count": 59,
   "metadata": {},
   "outputs": [
    {
     "name": "stdout",
     "output_type": "stream",
     "text": [
      "Http Status Code:  200 OK\n",
      "Http Response Body:  {'message': 'Access token deleted'}\n"
     ]
    }
   ],
   "source": [
    "response = requests.delete(\n",
    "    f\"http://localhost:3001/users/Arne/tokens/{arne_access_token}\",\n",
    "    headers=auth_header,\n",
    ")\n",
    "\n",
    "print(\"Http Status Code: \", response.status_code, response.reason)\n",
    "print(\"Http Response Body: \", response.json())"
   ]
  },
  {
   "cell_type": "markdown",
   "metadata": {},
   "source": [
    "### Using Deleted Access Token"
   ]
  },
  {
   "cell_type": "markdown",
   "metadata": {},
   "source": [
    "Requests using the old token will now be rejected. This is how you are able to remotely log out devices from your social media accounts, and the reason why a device name is provided when logging in."
   ]
  },
  {
   "cell_type": "code",
   "execution_count": 60,
   "metadata": {},
   "outputs": [
    {
     "data": {
      "text/plain": [
       "{'error': 'Invalid access token'}"
      ]
     },
     "execution_count": 60,
     "metadata": {},
     "output_type": "execute_result"
    }
   ],
   "source": [
    "requests.get(\"http://localhost:3001/users/Arne/profile\", headers=auth_header).json()"
   ]
  },
  {
   "cell_type": "markdown",
   "metadata": {},
   "source": [
    "### Log In"
   ]
  },
  {
   "cell_type": "markdown",
   "metadata": {},
   "source": [
    "Logging in means creating a new access token."
   ]
  },
  {
   "cell_type": "code",
   "execution_count": 61,
   "metadata": {},
   "outputs": [
    {
     "name": "stdout",
     "output_type": "stream",
     "text": [
      "{\n",
      "    \"device_name\": \"Arne's PC\",\n",
      "    \"expires\": 1732224015.876241,\n",
      "    \"token\": \"4U1R2DyNEiYfhPY7A6c2xumotJfAEusBO1VCx03I1pU\",\n",
      "    \"username\": \"Arne\"\n",
      "}\n"
     ]
    }
   ],
   "source": [
    "response = requests.post(\"http://localhost:3001/users/Arne/tokens\", json={\n",
    "    \"username\": \"Arne\",\n",
    "    \"password\": \"password123\",\n",
    "    \"device_name\": \"Arne's PC\"\n",
    "})\n",
    "\n",
    "arnes_pc_access_token = response.json()[\"token\"]\n",
    "\n",
    "print(json.dumps(response.json(), indent=4))"
   ]
  },
  {
   "cell_type": "markdown",
   "metadata": {},
   "source": [
    "Lets also make another access token for Arne's phone."
   ]
  },
  {
   "cell_type": "code",
   "execution_count": 62,
   "metadata": {},
   "outputs": [
    {
     "name": "stdout",
     "output_type": "stream",
     "text": [
      "{\n",
      "    \"device_name\": \"Arne's Phone\",\n",
      "    \"expires\": 1732224019.741825,\n",
      "    \"token\": \"PHceT5tOpALI71PwlyjlbYmJH1d9zEXiB3mkETnOY9U\",\n",
      "    \"username\": \"Arne\"\n",
      "}\n"
     ]
    }
   ],
   "source": [
    "response = requests.post(\"http://localhost:3001/users/Arne/tokens\", json={\n",
    "    \"username\": \"Arne\",\n",
    "    \"password\": \"password123\",\n",
    "    \"device_name\": \"Arne's Phone\"\n",
    "})\n",
    "\n",
    "arnes_phone_access_token = response.json()[\"token\"]\n",
    "\n",
    "print(json.dumps(response.json(), indent=4))"
   ]
  },
  {
   "cell_type": "markdown",
   "metadata": {},
   "source": [
    "And his work computer."
   ]
  },
  {
   "cell_type": "code",
   "execution_count": 63,
   "metadata": {},
   "outputs": [],
   "source": [
    "arnes_work_pc_access_token = requests.post(\n",
    "    \"http://localhost:3001/users/Arne/tokens\",\n",
    "    json={\n",
    "        \"username\": \"Arne\",\n",
    "        \"password\": \"password123\",\n",
    "        \"device_name\": \"Arne's Work PC\"\n",
    "    }\n",
    ").json()[\"token\"]"
   ]
  },
  {
   "cell_type": "markdown",
   "metadata": {},
   "source": [
    "Using the new tokens, we should be able to fetch the profile of the user."
   ]
  },
  {
   "cell_type": "code",
   "execution_count": 64,
   "metadata": {},
   "outputs": [],
   "source": [
    "arnes_pc_auth_header = { \"Authorization\": f\"Bearer {arnes_pc_access_token}\"}\n",
    "arnes_phone_auth_header = { \"Authorization\": f\"Bearer {arnes_phone_access_token}\" }\n",
    "arnes_work_pc_auth_header = { \"Authorization\": f\"Bearer {arnes_work_pc_access_token}\"}"
   ]
  },
  {
   "cell_type": "code",
   "execution_count": 65,
   "metadata": {},
   "outputs": [
    {
     "data": {
      "text/plain": [
       "{'age': 30, 'email': 'arne@example.com', 'username': 'Arne'}"
      ]
     },
     "execution_count": 65,
     "metadata": {},
     "output_type": "execute_result"
    }
   ],
   "source": [
    "requests.get(\"http://localhost:3001/users/Arne/profile\", headers=arnes_pc_auth_header).json()"
   ]
  },
  {
   "cell_type": "code",
   "execution_count": 66,
   "metadata": {},
   "outputs": [
    {
     "data": {
      "text/plain": [
       "{'age': 30, 'email': 'arne@example.com', 'username': 'Arne'}"
      ]
     },
     "execution_count": 66,
     "metadata": {},
     "output_type": "execute_result"
    }
   ],
   "source": [
    "requests.get(\"http://localhost:3001/users/Arne/profile\", headers=arnes_phone_auth_header).json()"
   ]
  },
  {
   "cell_type": "code",
   "execution_count": 67,
   "metadata": {},
   "outputs": [
    {
     "data": {
      "text/plain": [
       "{'age': 30, 'email': 'arne@example.com', 'username': 'Arne'}"
      ]
     },
     "execution_count": 67,
     "metadata": {},
     "output_type": "execute_result"
    }
   ],
   "source": [
    "requests.get(\"http://localhost:3001/users/Arne/profile\", headers=arnes_work_pc_auth_header).json()"
   ]
  },
  {
   "cell_type": "markdown",
   "metadata": {},
   "source": [
    "### List Access Tokens"
   ]
  },
  {
   "cell_type": "markdown",
   "metadata": {},
   "source": [
    "The API has an endpoint for listing the access tokens of a user. This can for example be used to list what devices are currently logged into the account. List endpoints typically have filters in the URL Parameters (Query String). In this case there is a \"limit\" parameter that can be used to limit the number of tokens returned. For endpoints with thousands of entries, this is necessary to avoid crashing the client/server/database as well as keeping the user experience fast and responsive."
   ]
  },
  {
   "cell_type": "code",
   "execution_count": 72,
   "metadata": {},
   "outputs": [
    {
     "name": "stdout",
     "output_type": "stream",
     "text": [
      "Tokens:\n",
      "{\n",
      "    \"count\": 2,\n",
      "    \"limit\": 2,\n",
      "    \"tokens\": [\n",
      "        {\n",
      "            \"device_name\": \"Arne's PC\",\n",
      "            \"expires\": 1732224015.876241,\n",
      "            \"token\": \"4U1R2DyNEiYfhPY7A6c2xumotJfAEusBO1VCx03I1pU\",\n",
      "            \"username\": \"Arne\"\n",
      "        },\n",
      "        {\n",
      "            \"device_name\": \"Arne's Phone\",\n",
      "            \"expires\": 1732224019.741825,\n",
      "            \"token\": \"PHceT5tOpALI71PwlyjlbYmJH1d9zEXiB3mkETnOY9U\",\n",
      "            \"username\": \"Arne\"\n",
      "        }\n",
      "    ],\n",
      "    \"total_count\": 3\n",
      "}\n"
     ]
    }
   ],
   "source": [
    "response = requests.get(\n",
    "    \"http://localhost:3001/users/Arne/tokens?limit=2\",\n",
    "    headers=arnes_pc_auth_header\n",
    ")\n",
    "\n",
    "tokens = response.json()\n",
    "\n",
    "print(\"Tokens:\")\n",
    "print(json.dumps(tokens, indent=4))"
   ]
  },
  {
   "cell_type": "markdown",
   "metadata": {},
   "source": [
    "Now lets fetch all of them and see what devices are logged in. Notice the endpoint is configured with a default limit of 10."
   ]
  },
  {
   "cell_type": "code",
   "execution_count": 77,
   "metadata": {},
   "outputs": [
    {
     "name": "stdout",
     "output_type": "stream",
     "text": [
      "Connected Devices:\n",
      "Arne's PC\n",
      "Arne's Phone\n",
      "Arne's Work PC\n"
     ]
    }
   ],
   "source": [
    "tokens = requests.get(\n",
    "    \"http://localhost:3001/users/Arne/tokens\",\n",
    "    headers=arnes_pc_auth_header\n",
    ").json()[\"tokens\"]\n",
    "\n",
    "\n",
    "print(\"Connected Devices:\")\n",
    "for token in tokens:\n",
    "    print(token[\"device_name\"])"
   ]
  },
  {
   "cell_type": "markdown",
   "metadata": {},
   "source": [
    "Lets log out the 2 other devices."
   ]
  },
  {
   "cell_type": "code",
   "execution_count": 78,
   "metadata": {},
   "outputs": [
    {
     "name": "stdout",
     "output_type": "stream",
     "text": [
      "Device Arne's Phone was removed\n",
      "Device Arne's Work PC was removed\n"
     ]
    }
   ],
   "source": [
    "for token in tokens:\n",
    "    if token[\"device_name\"] == \"Arne's PC\":\n",
    "        continue\n",
    "    \n",
    "    response = requests.delete(\n",
    "        f\"http://localhost:3001/users/Arne/tokens/{token['token']}\",\n",
    "        headers=arnes_pc_auth_header\n",
    "    )\n",
    "    \n",
    "    if response.status_code == 200:\n",
    "        print(f\"Device {token['device_name']} was removed\")"
   ]
  },
  {
   "cell_type": "markdown",
   "metadata": {},
   "source": [
    "Now lets list the tokens again"
   ]
  },
  {
   "cell_type": "code",
   "execution_count": 81,
   "metadata": {},
   "outputs": [
    {
     "name": "stdout",
     "output_type": "stream",
     "text": [
      "{\n",
      "    \"count\": 1,\n",
      "    \"limit\": 10,\n",
      "    \"tokens\": [\n",
      "        {\n",
      "            \"device_name\": \"Arne's PC\",\n",
      "            \"expires\": 1732224015.876241,\n",
      "            \"token\": \"4U1R2DyNEiYfhPY7A6c2xumotJfAEusBO1VCx03I1pU\",\n",
      "            \"username\": \"Arne\"\n",
      "        }\n",
      "    ],\n",
      "    \"total_count\": 1\n",
      "}\n"
     ]
    }
   ],
   "source": [
    "response = requests.get(\n",
    "    \"http://localhost:3001/users/Arne/tokens\",\n",
    "    headers=arnes_pc_auth_header\n",
    ")\n",
    "\n",
    "print(json.dumps(response.json(), indent=4))"
   ]
  },
  {
   "cell_type": "markdown",
   "metadata": {},
   "source": [
    "### Get access token information"
   ]
  },
  {
   "cell_type": "markdown",
   "metadata": {},
   "source": [
    "The token endpoint also has a GET method that can be used to get information about a specific token, such as the device and when it expires (forces user to log in again)."
   ]
  },
  {
   "cell_type": "code",
   "execution_count": 86,
   "metadata": {},
   "outputs": [
    {
     "name": "stdout",
     "output_type": "stream",
     "text": [
      "{\n",
      "    \"device_name\": \"Arne's PC\",\n",
      "    \"expires\": 1732224015.876241,\n",
      "    \"token\": \"4U1R2DyNEiYfhPY7A6c2xumotJfAEusBO1VCx03I1pU\",\n",
      "    \"username\": \"Arne\"\n",
      "}\n"
     ]
    }
   ],
   "source": [
    "print(json.dumps(requests.get(\n",
    "    f\"http://localhost:3001/users/Arne/tokens/{arnes_pc_access_token}\",\n",
    "    headers=arnes_pc_auth_header,\n",
    ").json(), indent=4))"
   ]
  },
  {
   "cell_type": "markdown",
   "metadata": {},
   "source": [
    "### View the database"
   ]
  },
  {
   "cell_type": "markdown",
   "metadata": {},
   "source": [
    "After all these operations, there is information stored in the database. In this case the database is simply the [access_token_demo_database.json](access_token_demo_database.json) file. Open it to have a look at how the (API)[access_token_demo.py] stores its information behind the scenes. When you are done, run the cell below to clear the database."
   ]
  },
  {
   "cell_type": "code",
   "execution_count": 88,
   "metadata": {},
   "outputs": [
    {
     "name": "stdout",
     "output_type": "stream",
     "text": [
      "{\"message\":\"Database cleared\"}\n",
      "\n"
     ]
    }
   ],
   "source": [
    "print(requests.delete(\"http://localhost:3001/database\").text)"
   ]
  },
  {
   "cell_type": "code",
   "execution_count": null,
   "metadata": {},
   "outputs": [],
   "source": []
  }
 ],
 "metadata": {
  "kernelspec": {
   "display_name": "Python 3",
   "language": "python",
   "name": "python3"
  },
  "language_info": {
   "codemirror_mode": {
    "name": "ipython",
    "version": 3
   },
   "file_extension": ".py",
   "mimetype": "text/x-python",
   "name": "python",
   "nbconvert_exporter": "python",
   "pygments_lexer": "ipython3",
   "version": "3.12.5"
  }
 },
 "nbformat": 4,
 "nbformat_minor": 2
}
