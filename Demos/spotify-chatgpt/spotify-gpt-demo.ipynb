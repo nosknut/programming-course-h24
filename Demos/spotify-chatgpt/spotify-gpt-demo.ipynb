{
 "cells": [
  {
   "cell_type": "markdown",
   "metadata": {},
   "source": [
    "# GPT Spotify Playlist Generator"
   ]
  },
  {
   "cell_type": "markdown",
   "metadata": {},
   "source": [
    "**NB!** This tutorial requires the use of paid services. See the OpenAI pricing [here](https://openai.com/api/pricing/). At the time of writing, the price is $0.150 per 1M tokens (medium sized words) using the GPT-4o-mini model.\n",
    "\n",
    "This tutorial demonstrates how to:\n",
    "1. Create a Spotify development user\n",
    "2. Create a ChatGPT development user\n",
    "3. Get the respective REST API credentials\n",
    "4. Use the respective REST API's\n",
    "5. Fetch songs from a spotify playlist\n",
    "6. Randomly select a song and add it to another playlist\n",
    "7. Use ChatGPT to pick a recommendation based on the fetched songs\n",
    "8. Programmatically open the recommended song in the browser\n",
    "9. Host a login endpoint for Spotify to get the user's credentials\n",
    "10. Add the recommendation to the user's playlist"
   ]
  },
  {
   "cell_type": "code",
   "execution_count": 1,
   "metadata": {},
   "outputs": [],
   "source": [
    "import os\n",
    "from dotenv import load_dotenv\n",
    "import requests\n",
    "import json\n",
    "from base64 import b64encode\n",
    "import random\n",
    "import webbrowser\n",
    "from urllib.parse import urlencode\n",
    "from flask import Flask, request, redirect\n",
    "import secrets"
   ]
  },
  {
   "cell_type": "markdown",
   "metadata": {},
   "source": [
    "## Create the .env file\n",
    "The credentials and url's required for this project are stored in a `.env` file. This file is not included in the repository for security reasons. Please make a copy of the `.env.example` file and rename it to `.env`. Fill in the required fields with the information that becomes available through this tutorial."
   ]
  },
  {
   "cell_type": "markdown",
   "metadata": {},
   "source": [
    "## Create Spotift API Key"
   ]
  },
  {
   "cell_type": "markdown",
   "metadata": {},
   "source": [
    "To create an API key with Spotify, you can follow these steps:\n",
    "\n",
    "1. Go to the Spotify Developer Dashboard: [Spotify Developer Dashboard](https://developer.spotify.com/dashboard/)\n",
    "2. Log in with your Spotify account or create a new account if you don't have one.\n",
    "3. Create a new app by clicking on the \"Create an App\" button.\n",
    "4. Fill in the required information for your app, such as the app name and app description. NB! The callback URL **MUST** be `http://localhost:8080/callback` for this to work.\n",
    "5. Once your app is created, you will get a Client ID and a Client Secret under the \"Settings\" button.\n",
    "6. Paste the Client ID and Client Secret into the .env file."
   ]
  },
  {
   "cell_type": "markdown",
   "metadata": {},
   "source": [
    "## Get Playlist IDs"
   ]
  },
  {
   "cell_type": "markdown",
   "metadata": {},
   "source": [
    "The project requires a source playlist where recommendations will be taken from, and a target playlist where the recommendations will be pushed and stored.\n",
    "\n",
    "To get the playlist ID:\n",
    "\n",
    "1. Open the Spotify application or website.\n",
    "2. Navigate to the playlist you want to use.\n",
    "3. Click on the three dots (...) next to the playlist name.\n",
    "4. Select \"Share\" from the dropdown menu.\n",
    "5. Click on \"Copy Playlist Link\" to copy the link to your clipboard.\n",
    "6. Paste the link into the .env file."
   ]
  },
  {
   "cell_type": "markdown",
   "metadata": {},
   "source": [
    "\n",
    "For more detailed instructions, you can refer to the Spotify Developer documentation: [Spotify Developer Documentation](https://developer.spotify.com/documentation/)"
   ]
  },
  {
   "cell_type": "markdown",
   "metadata": {},
   "source": [
    "## Spotify Code"
   ]
  },
  {
   "cell_type": "code",
   "execution_count": 2,
   "metadata": {},
   "outputs": [],
   "source": [
    "def extract_playlist_id(playlist_url):\n",
    "    playlist_id = playlist_url.split(\"playlist/\")[-1]\n",
    "    playlist_id = playlist_id.split(\"?\")[0]\n",
    "    return playlist_id"
   ]
  },
  {
   "cell_type": "code",
   "execution_count": 3,
   "metadata": {},
   "outputs": [],
   "source": [
    "# Load environment variables from .env file\n",
    "load_dotenv()\n",
    "\n",
    "# Get the playlist URL and access token from environment variables\n",
    "source_playlist_url = os.getenv(\"SOURCE_PLAYLIST_URL\")\n",
    "target_playlist_url = os.getenv(\"TARGET_PLAYLIST_URL\")\n",
    "client_id = os.getenv(\"CLIENT_ID\")\n",
    "client_secret = os.getenv(\"CLIENT_SECRET\")\n",
    "\n",
    "# Extract the playlist ID from the source playlist URL\n",
    "source_playlist_id = extract_playlist_id(source_playlist_url)\n",
    "\n",
    "# Extract the playlist ID from the target playlist URL\n",
    "target_playlist_id = extract_playlist_id(target_playlist_url)"
   ]
  },
  {
   "cell_type": "code",
   "execution_count": 4,
   "metadata": {},
   "outputs": [],
   "source": [
    "def get_spotify_access_token(client_id, client_secret):\n",
    "    \n",
    "    # https://developer.spotify.com/documentation/web-api/concepts/authorization\n",
    "    # https://developer.spotify.com/documentation/web-api/tutorials/client-credentials-flow\n",
    "    \n",
    "    url = 'https://accounts.spotify.com/api/token'\n",
    "    headers = {\n",
    "        'Authorization': 'Basic ' + b64encode(f\"{client_id}:{client_secret}\".encode()).decode()\n",
    "    }\n",
    "    data = {\n",
    "        'grant_type': 'client_credentials'\n",
    "    }\n",
    "    \n",
    "    response = requests.post(url, headers=headers, data=data)\n",
    "    \n",
    "    if response.status_code == 200:\n",
    "        return response.json().get('access_token')\n",
    "    else:\n",
    "        response.raise_for_status()"
   ]
  },
  {
   "cell_type": "code",
   "execution_count": 5,
   "metadata": {},
   "outputs": [],
   "source": [
    "access_token = get_spotify_access_token(client_id, client_secret)"
   ]
  },
  {
   "cell_type": "code",
   "execution_count": 6,
   "metadata": {},
   "outputs": [],
   "source": [
    "def fetch_top_songs(playlist_id, access_token, limit):\n",
    "    url = f\"https://api.spotify.com/v1/playlists/{playlist_id}/tracks\"\n",
    "    \n",
    "    # https://developer.spotify.com/documentation/web-api/concepts/access-token\n",
    "    headers = {\n",
    "        \"Authorization\": f\"Bearer {access_token}\"\n",
    "    }\n",
    "    params = {\n",
    "        \"limit\": limit\n",
    "    }\n",
    "    \n",
    "    response = requests.get(url, headers=headers, params=params)\n",
    "    \n",
    "    if response.status_code == 200:\n",
    "        top_songs = response.json()\n",
    "        return top_songs\n",
    "    else:\n",
    "        print(\"Failed to fetch top songs. Error:\", response.status_code)\n",
    "        print(response.json())\n",
    "        return None"
   ]
  },
  {
   "cell_type": "code",
   "execution_count": 7,
   "metadata": {},
   "outputs": [],
   "source": [
    "limit = 10\n",
    "top_songs = fetch_top_songs(source_playlist_id, access_token, limit)"
   ]
  },
  {
   "cell_type": "code",
   "execution_count": 8,
   "metadata": {},
   "outputs": [],
   "source": [
    "def create_track_label(item):\n",
    "    return item[\"track\"][\"name\"] + \" [\" + item[\"track\"][\"artists\"][0][\"name\"] + \"]\""
   ]
  },
  {
   "cell_type": "code",
   "execution_count": 9,
   "metadata": {},
   "outputs": [
    {
     "name": "stdout",
     "output_type": "stream",
     "text": [
      "Die With A Smile [Lady Gaga]\n",
      "Taste [Sabrina Carpenter]\n",
      "Sigg [Ballinciaga]\n",
      "Så længe jeg er sexy. [Annika]\n",
      "BIRDS OF A FEATHER [Billie Eilish]\n",
      "Espresso [Sabrina Carpenter]\n",
      "Please Please Please [Sabrina Carpenter]\n",
      "A Bar Song (Tipsy) [Shaboozey]\n",
      "I Had Some Help (Feat. Morgan Wallen) [Post Malone]\n",
      "Utested [Ari Bajgora]\n"
     ]
    }
   ],
   "source": [
    "for item in top_songs[\"items\"]:\n",
    "    print(create_track_label(item))"
   ]
  },
  {
   "cell_type": "code",
   "execution_count": 10,
   "metadata": {},
   "outputs": [
    {
     "name": "stdout",
     "output_type": "stream",
     "text": [
      "BIRDS OF A FEATHER [Billie Eilish]\n"
     ]
    }
   ],
   "source": [
    "random_song = random.choice(top_songs['items'])\n",
    "track_url = random_song['track']['external_urls']['spotify']\n",
    "print(create_track_label(random_song))"
   ]
  },
  {
   "cell_type": "markdown",
   "metadata": {},
   "source": [
    "**NB!** Paying for Chatgpt Plus will **NOT** grant you the credits required to use with the REST API. API use requires a separate payment.\n",
    "\n",
    "To create a ChatGPT account and get the API key, follow these steps:\n",
    "\n",
    "1. Go to the OpenAI website: [OpenAI](https://www.openai.com/)\n",
    "2. Click on the \"Sign Up\" button to create a new account or \"Log In\" if you already have an account.\n",
    "3. Follow the prompts to complete the sign-up process.\n",
    "4. Once logged in, navigate to the API section of the website: [OpenAI API](https://platform.openai.com/account/api-keys)\n",
    "5. Click on \"Create new secret key\" to generate a new API key.\n",
    "6. Copy the generated API key into the .env file.\n",
    "7. Add a payment method and add credit to your account to use the API. Add and monitor credit: [Open API](https://platform.openai.com/settings/organization/billing/overview)."
   ]
  },
  {
   "cell_type": "markdown",
   "metadata": {},
   "source": [
    "For more detailed instructions, you can refer to the OpenAI documentation: [OpenAI Documentation](https://beta.openai.com/docs/)"
   ]
  },
  {
   "cell_type": "markdown",
   "metadata": {},
   "source": [
    "## ChatGPT Code"
   ]
  },
  {
   "cell_type": "code",
   "execution_count": 11,
   "metadata": {},
   "outputs": [],
   "source": [
    "# Load environment variables from .env file\n",
    "load_dotenv()\n",
    "\n",
    "openai_api_key = os.getenv(\"OPENAI_API_KEY\")"
   ]
  },
  {
   "cell_type": "code",
   "execution_count": 12,
   "metadata": {},
   "outputs": [],
   "source": [
    "role_prompt = \"\"\"\n",
    "You are going to recommend good music. You will respond exclusively with this exact template:\n",
    "{\n",
    "    \"name\": \"Song Name\",\n",
    "    \"url\": \"Spotify Song URL\"\n",
    "}\n",
    "Once the user prompts you with a list of songs, you should pick one and respond with the template.\n",
    "\"\"\""
   ]
  },
  {
   "cell_type": "code",
   "execution_count": 13,
   "metadata": {},
   "outputs": [],
   "source": [
    "def create_song_list(songs):\n",
    "    songs_with_urls = []\n",
    "    for item in songs[\"items\"]:\n",
    "        song = {\n",
    "            \"name\": item[\"track\"][\"name\"],\n",
    "            \"url\": item[\"track\"][\"external_urls\"][\"spotify\"]\n",
    "        }\n",
    "        songs_with_urls.append(song)\n",
    "    return songs_with_urls"
   ]
  },
  {
   "cell_type": "code",
   "execution_count": 14,
   "metadata": {},
   "outputs": [
    {
     "data": {
      "text/plain": [
       "[{'name': 'Die With A Smile',\n",
       "  'url': 'https://open.spotify.com/track/2plbrEY59IikOBgBGLjaoe'},\n",
       " {'name': 'Taste',\n",
       "  'url': 'https://open.spotify.com/track/5G2f63n7IPVPPjfNIGih7Q'},\n",
       " {'name': 'Sigg',\n",
       "  'url': 'https://open.spotify.com/track/4u6STUR9fsBQozW1S40BTN'}]"
      ]
     },
     "execution_count": 14,
     "metadata": {},
     "output_type": "execute_result"
    }
   ],
   "source": [
    "songs_with_urls = create_song_list(top_songs)\n",
    "songs_with_urls[:3] # See what the data looks like"
   ]
  },
  {
   "cell_type": "code",
   "execution_count": 15,
   "metadata": {},
   "outputs": [
    {
     "name": "stdout",
     "output_type": "stream",
     "text": [
      "[{\"name\": \"Die With A Smile\", \"url\": \"https://open.spotify.com/track/2plbrEY59IikOBgBGLjaoe\"}, {\"name\": \"Taste\", \"url\": \"https://open.spotify.com/track/5G2f63n7IPVPPjfNIGih7Q\"}, {\"name\": \"Sigg\", \"url\": \"https://open.spotify.com/track/4u6STUR9fsBQozW1S40BTN\"}, {\"name\": \"S\\u00e5 l\\u00e6nge jeg er sexy.\", \"url\": \"https://open.spotify.com/track/0fFMt9cc1EEQDIWLGDcqKd\"}, {\"name\": \"BIRDS OF A FEATHER\", \"url\": \"https://open.spotify.com/track/6dOtVTDdiauQNBQEDOtlAB\"}, {\"name\": \"Espresso\", \"url\": \"https://open.spotify.com/track/2qSkIjg1o9h3YT9RAgYN75\"}, {\"name\": \"Please Please Please\", \"url\": \"https://open.spotify.com/track/5N3hjp1WNayUPZrA8kJmJP\"}, {\"name\": \"A Bar Song (Tipsy)\", \"url\": \"https://open.spotify.com/track/5fZJQrFKWQLb7FpJXZ1g7K\"}, {\"name\": \"I Had Some Help (Feat. Morgan Wallen)\", \"url\": \"https://open.spotify.com/track/5IZXB5IKAD2qlvTPJYDCFB\"}, {\"name\": \"Utested\", \"url\": \"https://open.spotify.com/track/19188WQf2DrNMfI1XLDnYF\"}]\n"
     ]
    }
   ],
   "source": [
    "# Create a JSON string from the list of songs\n",
    "prompt = json.dumps(songs_with_urls)\n",
    "print(prompt)"
   ]
  },
  {
   "cell_type": "code",
   "execution_count": 16,
   "metadata": {},
   "outputs": [],
   "source": [
    "def access_chat_gpt_api(role_prompt, prompt, api_key):\n",
    "    url = \"https://api.openai.com/v1/chat/completions\"\n",
    "    headers = {\n",
    "        \"Content-Type\": \"application/json\",\n",
    "        \"Authorization\": f\"Bearer {api_key}\"\n",
    "    }\n",
    "    data = {\n",
    "        \"model\": \"gpt-4o-mini\",\n",
    "        \"messages\": [\n",
    "            {\n",
    "                \"role\": \"system\",\n",
    "                \"content\": role_prompt\n",
    "            },\n",
    "            {\n",
    "                \"role\": \"user\",\n",
    "                \"content\": prompt\n",
    "            }\n",
    "        ]\n",
    "    }\n",
    "    \n",
    "    response = requests.post(url, headers=headers, json=data)\n",
    "    \n",
    "    if response.status_code == 200:\n",
    "        return response.json()\n",
    "    else:\n",
    "        print(\"Failed to access ChatGPT API. Error:\", response.status_code)\n",
    "        print(response.json())\n",
    "        return None"
   ]
  },
  {
   "cell_type": "code",
   "execution_count": 17,
   "metadata": {},
   "outputs": [],
   "source": [
    "chat_gpt_response = access_chat_gpt_api(role_prompt, prompt, openai_api_key)"
   ]
  },
  {
   "cell_type": "code",
   "execution_count": 18,
   "metadata": {},
   "outputs": [
    {
     "name": "stdout",
     "output_type": "stream",
     "text": [
      "{\n",
      "    \"id\": \"chatcmpl-A3pEFGQNhuHas2fweHYUj4Z3WHd3s\",\n",
      "    \"object\": \"chat.completion\",\n",
      "    \"created\": 1725475271,\n",
      "    \"model\": \"gpt-4o-mini-2024-07-18\",\n",
      "    \"choices\": [\n",
      "        {\n",
      "            \"index\": 0,\n",
      "            \"message\": {\n",
      "                \"role\": \"assistant\",\n",
      "                \"content\": \"{\\n    \\\"name\\\": \\\"Die With A Smile\\\",\\n    \\\"url\\\": \\\"https://open.spotify.com/track/2plbrEY59IikOBgBGLjaoe\\\"\\n}\",\n",
      "                \"refusal\": null\n",
      "            },\n",
      "            \"logprobs\": null,\n",
      "            \"finish_reason\": \"stop\"\n",
      "        }\n",
      "    ],\n",
      "    \"usage\": {\n",
      "        \"prompt_tokens\": 454,\n",
      "        \"completion_tokens\": 39,\n",
      "        \"total_tokens\": 493\n",
      "    },\n",
      "    \"system_fingerprint\": \"fp_f33667828e\"\n",
      "}\n"
     ]
    }
   ],
   "source": [
    "import json\n",
    "\n",
    "# Pretty print the JSON response.\n",
    "# The JSON formatted response text is located in choices.message.content\n",
    "print(json.dumps(chat_gpt_response, indent=4))"
   ]
  },
  {
   "cell_type": "code",
   "execution_count": 19,
   "metadata": {},
   "outputs": [],
   "source": [
    "chat_gpt_content = chat_gpt_response['choices'][0]['message']['content']"
   ]
  },
  {
   "cell_type": "code",
   "execution_count": 20,
   "metadata": {},
   "outputs": [
    {
     "name": "stdout",
     "output_type": "stream",
     "text": [
      "{\n",
      "    \"name\": \"Die With A Smile\",\n",
      "    \"url\": \"https://open.spotify.com/track/2plbrEY59IikOBgBGLjaoe\"\n",
      "}\n"
     ]
    }
   ],
   "source": [
    "# Parse the content as JSON into a dict\n",
    "parsed_content = json.loads(chat_gpt_content)\n",
    "\n",
    "# Pretty print the content of the response\n",
    "print(json.dumps(parsed_content, indent=4))"
   ]
  },
  {
   "cell_type": "code",
   "execution_count": 21,
   "metadata": {},
   "outputs": [
    {
     "data": {
      "text/plain": [
       "'https://open.spotify.com/track/2plbrEY59IikOBgBGLjaoe'"
      ]
     },
     "execution_count": 21,
     "metadata": {},
     "output_type": "execute_result"
    }
   ],
   "source": [
    "# Extract the content url\n",
    "content_url = parsed_content['url']\n",
    "content_url"
   ]
  },
  {
   "cell_type": "code",
   "execution_count": 22,
   "metadata": {},
   "outputs": [],
   "source": [
    "# Find the original track info based on the URL\n",
    "def find_track_by_url(url, songs):\n",
    "    for item in songs['items']:\n",
    "        if item['track']['external_urls']['spotify'] == url:\n",
    "            return item\n",
    "    return None"
   ]
  },
  {
   "cell_type": "code",
   "execution_count": 23,
   "metadata": {},
   "outputs": [],
   "source": [
    "track_info = find_track_by_url(content_url, top_songs)"
   ]
  },
  {
   "cell_type": "code",
   "execution_count": 24,
   "metadata": {},
   "outputs": [
    {
     "name": "stdout",
     "output_type": "stream",
     "text": [
      "{'added_at': '2024-09-04T09:34:08Z', 'added_by': {'external_urls': {'spotify': 'https://open.spotify.com/user/'}, 'href': 'https://api.spotify.com/v1/users/', 'id': '', 'type': 'user', 'uri': 'spotify:user:'}, 'is_local': False, 'primary_color': None, 'track': {'preview_url': None, 'available_markets': ['AR', 'AU', 'AT', 'BE', 'BO', 'BR', 'BG', 'CA', 'CL', 'CO', 'CR', 'CY', 'CZ', 'DK', 'DO', 'DE', 'EC', 'EE', 'SV', 'FI', 'FR', 'GR', 'GT', 'HN', 'HK', 'HU', 'IS', 'IE', 'IT', 'LV', 'LT', 'LU', 'MY', 'MT', 'MX', 'NL', 'NZ', 'NI', 'NO', 'PA', 'PY', 'PE', 'PH', 'PL', 'PT', 'SG', 'SK', 'ES', 'SE', 'CH', 'TW', 'TR', 'UY', 'US', 'GB', 'AD', 'LI', 'MC', 'ID', 'JP', 'TH', 'VN', 'RO', 'IL', 'ZA', 'SA', 'AE', 'BH', 'QA', 'OM', 'KW', 'EG', 'MA', 'DZ', 'TN', 'LB', 'JO', 'PS', 'IN', 'KZ', 'MD', 'UA', 'AL', 'BA', 'HR', 'ME', 'MK', 'RS', 'SI', 'KR', 'BD', 'PK', 'LK', 'GH', 'KE', 'NG', 'TZ', 'UG', 'AG', 'AM', 'BS', 'BB', 'BZ', 'BT', 'BW', 'BF', 'CV', 'CW', 'DM', 'FJ', 'GM', 'GE', 'GD', 'GW', 'GY', 'HT', 'JM', 'KI', 'LS', 'LR', 'MW', 'MV', 'ML', 'MH', 'FM', 'NA', 'NR', 'NE', 'PW', 'PG', 'WS', 'SM', 'ST', 'SN', 'SC', 'SL', 'SB', 'KN', 'LC', 'VC', 'SR', 'TL', 'TO', 'TT', 'TV', 'VU', 'AZ', 'BN', 'BI', 'KH', 'CM', 'TD', 'KM', 'GQ', 'SZ', 'GA', 'GN', 'KG', 'LA', 'MO', 'MR', 'MN', 'NP', 'RW', 'TG', 'UZ', 'ZW', 'BJ', 'MG', 'MU', 'MZ', 'AO', 'CI', 'DJ', 'ZM', 'CD', 'CG', 'IQ', 'LY', 'TJ', 'VE', 'ET', 'XK'], 'explicit': False, 'type': 'track', 'episode': False, 'track': True, 'album': {'available_markets': ['AR', 'AU', 'AT', 'BE', 'BO', 'BR', 'BG', 'CA', 'CL', 'CO', 'CR', 'CY', 'CZ', 'DK', 'DO', 'DE', 'EC', 'EE', 'SV', 'FI', 'FR', 'GR', 'GT', 'HN', 'HK', 'HU', 'IS', 'IE', 'IT', 'LV', 'LT', 'LU', 'MY', 'MT', 'MX', 'NL', 'NZ', 'NI', 'NO', 'PA', 'PY', 'PE', 'PH', 'PL', 'PT', 'SG', 'SK', 'ES', 'SE', 'CH', 'TW', 'TR', 'UY', 'US', 'GB', 'AD', 'LI', 'MC', 'ID', 'JP', 'TH', 'VN', 'RO', 'IL', 'ZA', 'SA', 'AE', 'BH', 'QA', 'OM', 'KW', 'EG', 'MA', 'DZ', 'TN', 'LB', 'JO', 'PS', 'IN', 'KZ', 'MD', 'UA', 'AL', 'BA', 'HR', 'ME', 'MK', 'RS', 'SI', 'KR', 'BD', 'PK', 'LK', 'GH', 'KE', 'NG', 'TZ', 'UG', 'AG', 'AM', 'BS', 'BB', 'BZ', 'BT', 'BW', 'BF', 'CV', 'CW', 'DM', 'FJ', 'GM', 'GE', 'GD', 'GW', 'GY', 'HT', 'JM', 'KI', 'LS', 'LR', 'MW', 'MV', 'ML', 'MH', 'FM', 'NA', 'NR', 'NE', 'PW', 'PG', 'WS', 'SM', 'ST', 'SN', 'SC', 'SL', 'SB', 'KN', 'LC', 'VC', 'SR', 'TL', 'TO', 'TT', 'TV', 'VU', 'AZ', 'BN', 'BI', 'KH', 'CM', 'TD', 'KM', 'GQ', 'SZ', 'GA', 'GN', 'KG', 'LA', 'MO', 'MR', 'MN', 'NP', 'RW', 'TG', 'UZ', 'ZW', 'BJ', 'MG', 'MU', 'MZ', 'AO', 'CI', 'DJ', 'ZM', 'CD', 'CG', 'IQ', 'LY', 'TJ', 'VE', 'ET', 'XK'], 'type': 'album', 'album_type': 'single', 'href': 'https://api.spotify.com/v1/albums/10FLjwfpbxLmW8c25Xyc2N', 'id': '10FLjwfpbxLmW8c25Xyc2N', 'images': [{'height': 640, 'url': 'https://i.scdn.co/image/ab67616d0000b27382ea2e9e1858aa012c57cd45', 'width': 640}, {'height': 300, 'url': 'https://i.scdn.co/image/ab67616d00001e0282ea2e9e1858aa012c57cd45', 'width': 300}, {'height': 64, 'url': 'https://i.scdn.co/image/ab67616d0000485182ea2e9e1858aa012c57cd45', 'width': 64}], 'name': 'Die With A Smile', 'release_date': '2024-08-16', 'release_date_precision': 'day', 'uri': 'spotify:album:10FLjwfpbxLmW8c25Xyc2N', 'artists': [{'external_urls': {'spotify': 'https://open.spotify.com/artist/1HY2Jd0NmPuamShAr6KMms'}, 'href': 'https://api.spotify.com/v1/artists/1HY2Jd0NmPuamShAr6KMms', 'id': '1HY2Jd0NmPuamShAr6KMms', 'name': 'Lady Gaga', 'type': 'artist', 'uri': 'spotify:artist:1HY2Jd0NmPuamShAr6KMms'}, {'external_urls': {'spotify': 'https://open.spotify.com/artist/0du5cEVh5yTK9QJze8zA0C'}, 'href': 'https://api.spotify.com/v1/artists/0du5cEVh5yTK9QJze8zA0C', 'id': '0du5cEVh5yTK9QJze8zA0C', 'name': 'Bruno Mars', 'type': 'artist', 'uri': 'spotify:artist:0du5cEVh5yTK9QJze8zA0C'}], 'external_urls': {'spotify': 'https://open.spotify.com/album/10FLjwfpbxLmW8c25Xyc2N'}, 'total_tracks': 1}, 'artists': [{'external_urls': {'spotify': 'https://open.spotify.com/artist/1HY2Jd0NmPuamShAr6KMms'}, 'href': 'https://api.spotify.com/v1/artists/1HY2Jd0NmPuamShAr6KMms', 'id': '1HY2Jd0NmPuamShAr6KMms', 'name': 'Lady Gaga', 'type': 'artist', 'uri': 'spotify:artist:1HY2Jd0NmPuamShAr6KMms'}, {'external_urls': {'spotify': 'https://open.spotify.com/artist/0du5cEVh5yTK9QJze8zA0C'}, 'href': 'https://api.spotify.com/v1/artists/0du5cEVh5yTK9QJze8zA0C', 'id': '0du5cEVh5yTK9QJze8zA0C', 'name': 'Bruno Mars', 'type': 'artist', 'uri': 'spotify:artist:0du5cEVh5yTK9QJze8zA0C'}], 'disc_number': 1, 'track_number': 1, 'duration_ms': 251667, 'external_ids': {'isrc': 'USUM72409273'}, 'external_urls': {'spotify': 'https://open.spotify.com/track/2plbrEY59IikOBgBGLjaoe'}, 'href': 'https://api.spotify.com/v1/tracks/2plbrEY59IikOBgBGLjaoe', 'id': '2plbrEY59IikOBgBGLjaoe', 'name': 'Die With A Smile', 'popularity': 96, 'uri': 'spotify:track:2plbrEY59IikOBgBGLjaoe', 'is_local': False}, 'video_thumbnail': {'url': None}}\n"
     ]
    }
   ],
   "source": [
    "print(track_info)"
   ]
  },
  {
   "cell_type": "code",
   "execution_count": 25,
   "metadata": {},
   "outputs": [
    {
     "name": "stdout",
     "output_type": "stream",
     "text": [
      "Opening the recommended song Die With A Smile in your browser...\n"
     ]
    }
   ],
   "source": [
    "# Programaticlaly open the url in the browser\n",
    "webbrowser.open(content_url)\n",
    "print(f\"Opening the recommended song {parsed_content['name']} in your browser...\")"
   ]
  },
  {
   "cell_type": "markdown",
   "metadata": {},
   "source": [
    "## Spotify User Login"
   ]
  },
  {
   "cell_type": "markdown",
   "metadata": {},
   "source": [
    "While the Spotify Developer Account credentials allow for read access to publicly visible spotify resources, it does not grant write access to a user's playlists. Think of it this way: If you turned this project into a website, each user logging into the website would be logging in using his/her own Spotify account. This would allow the website to access the user's playlists and add recommendations. The credentials from earlier are only used to acquire the user's credentials. The following section and code is based on the [Spotify Authorization Docs](https://developer.spotify.com/documentation/general/guides/authorization-guide/), specifically the [Authorization Code Flow](https://developer.spotify.com/documentation/web-api/tutorials/code-flow), and demonstrates how to send the user to the Spotify login page, and how to extract the resulting credentials."
   ]
  },
  {
   "cell_type": "markdown",
   "metadata": {},
   "source": [
    "### Create Login API Endpoint"
   ]
  },
  {
   "cell_type": "code",
   "execution_count": 26,
   "metadata": {},
   "outputs": [],
   "source": [
    "# Load the required environment variables\n",
    "load_dotenv()\n",
    "\n",
    "client_id = os.getenv(\"CLIENT_ID\")\n",
    "client_secret = os.getenv(\"CLIENT_SECRET\")\n",
    "redirect_uri = os.getenv(\"REDIRECT_URI\")\n",
    "\n",
    "# Create the Flask app used for defining API endpoints\n",
    "app = Flask(__name__)"
   ]
  },
  {
   "cell_type": "markdown",
   "metadata": {},
   "source": [
    "### Create the login handler"
   ]
  },
  {
   "cell_type": "markdown",
   "metadata": {},
   "source": [
    "This function will run when the user navigates to [http://localhost:8080/login](http://localhost:8080/login). It redirects the user to the Spotify login website, with an URL that contains information about the app, as well as what resources the app is requesting access to. This will make more sense when you start the server and open the website later."
   ]
  },
  {
   "cell_type": "code",
   "execution_count": 27,
   "metadata": {},
   "outputs": [],
   "source": [
    "@app.route('/login')\n",
    "def login():\n",
    "    \n",
    "    # Generate random 16 character string\n",
    "    # to keep track of the login attempt\n",
    "    state = secrets.token_urlsafe(16)\n",
    "    \n",
    "    # What the app can do with the user's Spotify account\n",
    "    # As a rule, in case you get hacked, only ask for what you need\n",
    "    # https://developer.spotify.com/documentation/web-api/concepts/scopes\n",
    "    scope = \" \".join(\n",
    "        [\n",
    "            # Images\n",
    "            # \"ugc-image-upload\",\n",
    "            # Spotify Connect\n",
    "            \"user-read-playback-state\",\n",
    "            \"user-modify-playback-state\",\n",
    "            \"user-read-currently-playing\",\n",
    "            # Playback\n",
    "            \"app-remote-control\",\n",
    "            \"streaming\",\n",
    "            # Playlists\n",
    "            \"playlist-read-private\",\n",
    "            \"playlist-read-collaborative\",\n",
    "            \"playlist-modify-private\",\n",
    "            \"playlist-modify-public\",\n",
    "            # Follow\n",
    "            # \"user-follow-modify\",\n",
    "            # \"user-follow-read\",\n",
    "            # Listening History\n",
    "            \"user-read-playback-position\",\n",
    "            \"user-top-read\",\n",
    "            \"user-read-recently-played\",\n",
    "            # Library\n",
    "            \"user-library-modify\",\n",
    "            \"user-library-read\",\n",
    "            # Users\n",
    "            # \"user-read-email\",\n",
    "            # \"user-read-private\",\n",
    "            # Open Access\n",
    "            # \"user-soa-link\",\n",
    "            # \"user-soa-unlink\",\n",
    "            # \"soa-manage-entitlements\",\n",
    "            # \"soa-manage-partner\",\n",
    "            # \"soa-create-partner\",\n",
    "        ]\n",
    "    )\n",
    "    \n",
    "    # Create the spotify login URL\n",
    "    spotify_login_url = 'https://accounts.spotify.com/authorize?' + urlencode({\n",
    "        # What type of Spotify login we want to perform\n",
    "        'response_type': 'code',\n",
    "        # Identifies this app (you got this from the spotify developer portal)\n",
    "        'client_id': client_id,\n",
    "        # Specifies what we want access to\n",
    "        'scope': scope,\n",
    "        # Specifies where spotify should send the user once the login process is complete\n",
    "        'redirect_uri': redirect_uri,\n",
    "        # A random unique string that lets us keep track of the login attempt.\n",
    "        # It will be included in the url when spotify redirects the user back to us.\n",
    "        'state': state\n",
    "    })\n",
    "    \n",
    "    \n",
    "    print(\"--------------------------------------------------------\")\n",
    "    print(\"User accessed the login endpoint, and is being redirected to Spotify Login\")\n",
    "    print(\"State:\", state)\n",
    "    print(\"Redirect Uri:\", redirect_uri)\n",
    "    print(\"Scope:\", scope)\n",
    "    print(\"Spotify Login URL (where the user just got redirected to):\")\n",
    "    print(spotify_login_url)\n",
    "    print(\"--------------------------------------------------------\")\n",
    "    \n",
    "    # Send the user to the Spotify login page\n",
    "    return redirect(spotify_login_url)\n"
   ]
  },
  {
   "cell_type": "markdown",
   "metadata": {},
   "source": [
    "### Create the callback handler"
   ]
  },
  {
   "cell_type": "markdown",
   "metadata": {},
   "source": [
    "Once the user has logged in, the spotify login website will redirect the user back to the redirect_uri that was specified in the spotify_login_url above. In this case, the redirect_uri is [http://localhost:8080/callback](http://localhost:8080/callback). The function below will run when the user is redirected there. In addition to the redirect URL, Spotify will add URL parameters that can be used to fetch the user's credentials. The url should look something like this:\n",
    "http://localhost:8080/callback?code=an_authorization_code_from_spotify&state=the_random_string_we_generated_earlier"
   ]
  },
  {
   "cell_type": "code",
   "execution_count": 28,
   "metadata": {},
   "outputs": [],
   "source": [
    "@app.route('/callback')\n",
    "def callback():\n",
    "    global auth_options\n",
    "    code = request.args.get('code', None)\n",
    "    state = request.args.get('state', None)\n",
    "    \n",
    "    print(\"--------------------------------------------------------\")\n",
    "    print(\"Spotify redirected user back to us after completed login\")\n",
    "    print(\"Code:\", code)\n",
    "    print(\"State:\", state)\n",
    "    print(\"--------------------------------------------------------\")\n",
    "\n",
    "    if state is None:\n",
    "        print(\"--------------------------------------------------------\")\n",
    "        print(\"State is missing. This request might not have been sent from Spotify.\")\n",
    "        print(\"--------------------------------------------------------\")\n",
    "        \n",
    "        # Redirect the user to an empty URL with an error message\n",
    "        return redirect('/#' + urlencode({'error': 'state_mismatch'}))\n",
    "    else:\n",
    "        # The user has been redirected back to us from Spotify login with a valid state.\n",
    "        # Now we can use the code in the URL to get the user's access token.\n",
    "        \n",
    "        # The URL to spotify's token endpoint\n",
    "        spotify_token_url = 'https://accounts.spotify.com/api/token'\n",
    "        \n",
    "        # The data required by the Spotify endpoint to get the access token\n",
    "        request_body = {\n",
    "            'code': code,\n",
    "            'redirect_uri': redirect_uri,\n",
    "            'grant_type': 'authorization_code'\n",
    "        }\n",
    "        \n",
    "        # The headers required by the Spotify endpoint to get the access token\n",
    "        headers = {\n",
    "            'content-type': 'application/x-www-form-urlencoded',\n",
    "            # The credentials of this app (same as was used in the function get_spotify_access_token())\n",
    "            # This is included because when the user was redirected to spotify, the url contained the client_id\n",
    "            # of this app, meaning the code the user got for logging in is only available to this app.\n",
    "            'Authorization': 'Basic ' + b64encode(f\"{client_id}:{client_secret}\".encode()).decode()\n",
    "        }\n",
    "        \n",
    "        # Send a POST request to the endpoint to exchange the code for an access token.\n",
    "        response = requests.post(spotify_token_url, data=request_body, headers=headers)\n",
    "        \n",
    "        if response.status_code == 200:\n",
    "            # If the request was successful, parse the response.\n",
    "            token_data = response.json()\n",
    "            \n",
    "            # Write token data to a JSON file\n",
    "            token_data_file = 'spotify_token_data.json'\n",
    "            with open(token_data_file, 'w') as f:\n",
    "                json.dump(token_data, f, indent=4)\n",
    "            \n",
    "            # Also show the access token to the user            \n",
    "            return ({\n",
    "                \"message\": \"Successfully fetched access token\",\n",
    "                \"access_token\": token_data\n",
    "            }, 200)\n",
    "        else:\n",
    "            # If the request was not successful, print an error message.\n",
    "            print(\"--------------------------------------------------------\")\n",
    "            print(\"Failed to fetch access token. Error:\", response.status_code)\n",
    "            print(response.json())\n",
    "            print(\"--------------------------------------------------------\")\n",
    "            # Send the error message to the user\n",
    "            return ({\"error\": response.reason}, response.status_code)"
   ]
  },
  {
   "cell_type": "markdown",
   "metadata": {},
   "source": [
    "### Host the login API"
   ]
  },
  {
   "cell_type": "markdown",
   "metadata": {},
   "source": [
    "Read all the steps before continuing:\n",
    "\n",
    "1. Start the login API using the cell below (do not click the URL's that will appear in the output. They don't work.)\n",
    "1. Open the login url [http://localhost:8080/login](http://localhost:8080/login) in your browser\n",
    "1. Look at the log messages in the output of the API notebook cell \n",
    "1. Log in with your Spotify account\n",
    "1. You will be redirected to the callback URL\n",
    "2. Look at the URl in the browser. Does anything look like the URL in the login and callback handler?\n",
    "3. Look at the log messages in the output of the API notebook cell \n",
    "4. The credentials will be printed in the terminal, and saved to the [spotify_token_data.json](spotify_token_data.json) file.\n",
    "5. When done, shut down the login API by clicking the stop button in the Jupyter notebook cell."
   ]
  },
  {
   "cell_type": "code",
   "execution_count": 29,
   "metadata": {},
   "outputs": [
    {
     "name": "stdout",
     "output_type": "stream",
     "text": [
      " * Serving Flask app '__main__'\n",
      " * Debug mode: off\n"
     ]
    },
    {
     "name": "stderr",
     "output_type": "stream",
     "text": [
      "WARNING: This is a development server. Do not use it in a production deployment. Use a production WSGI server instead.\n",
      " * Running on all addresses (0.0.0.0)\n",
      " * Running on http://127.0.0.1:8080\n",
      " * Running on http://192.168.1.23:8080\n",
      "Press CTRL+C to quit\n"
     ]
    }
   ],
   "source": [
    "# Start the Flash server (login API)\n",
    "app.run(port=8080, host=\"0.0.0.0\")"
   ]
  },
  {
   "cell_type": "markdown",
   "metadata": {},
   "source": [
    "### Stop the login API"
   ]
  },
  {
   "cell_type": "markdown",
   "metadata": {},
   "source": [
    "Remember to click the stop button in the Jupyter notebook cell to stop the login API, other wise you will not be able to run the rest of the code."
   ]
  },
  {
   "cell_type": "markdown",
   "metadata": {},
   "source": [
    "### Load the credentials from the JSON file"
   ]
  },
  {
   "cell_type": "markdown",
   "metadata": {},
   "source": [
    "When the user logged in, the access token was saved to a JSON File [spotify_token_data.json](spotify_token_data.json) to make these demos easier to work with. Lets load them into the notebook."
   ]
  },
  {
   "cell_type": "code",
   "execution_count": 30,
   "metadata": {},
   "outputs": [],
   "source": [
    "# Load the token data from the JSON file\n",
    "token_data_file = 'spotify_token_data.json'\n",
    "with open(token_data_file, 'r') as f:\n",
    "    token_data = json.load(f)"
   ]
  },
  {
   "cell_type": "markdown",
   "metadata": {},
   "source": [
    "Extract the access token from the token_data."
   ]
  },
  {
   "cell_type": "code",
   "execution_count": 31,
   "metadata": {},
   "outputs": [],
   "source": [
    "user_access_token = token_data['access_token']"
   ]
  },
  {
   "cell_type": "markdown",
   "metadata": {},
   "source": [
    "## Add the recommendation to the user's playlist"
   ]
  },
  {
   "cell_type": "code",
   "execution_count": 32,
   "metadata": {},
   "outputs": [],
   "source": [
    "# Function to add a song to a Spotify playlist\n",
    "# https://developer.spotify.com/documentation/web-api/reference/add-tracks-to-playlist\n",
    "def add_song_to_playlist(song, playlist_id, user_access_token):\n",
    "    # Add a song to a Spotify playlist\n",
    "    \n",
    "    response = requests.post(\n",
    "        f\"https://api.spotify.com/v1/playlists/{playlist_id}/tracks\",\n",
    "        headers={\n",
    "            \"Authorization\": f\"Bearer {user_access_token}\",\n",
    "            \"Content-Type\": \"application/json\",\n",
    "        },\n",
    "        json={\n",
    "            \"uris\": [song['track']['uri']],\n",
    "            \"position\": 0,\n",
    "        },\n",
    "    )\n",
    "    \n",
    "    # Throw an error if the request was not successful\n",
    "    response.raise_for_status()"
   ]
  },
  {
   "cell_type": "code",
   "execution_count": 33,
   "metadata": {},
   "outputs": [
    {
     "name": "stdout",
     "output_type": "stream",
     "text": [
      "Added the song \"BIRDS OF A FEATHER [Billie Eilish]\" to the target playlist!\n"
     ]
    }
   ],
   "source": [
    "# Add the random song to the target playlist\n",
    "add_song_to_playlist(random_song, target_playlist_id, user_access_token)\n",
    "\n",
    "print(f'Added the song \"{create_track_label(random_song)}\" to the target playlist!')"
   ]
  },
  {
   "cell_type": "markdown",
   "metadata": {},
   "source": [
    "Now lets open the playlist in the browser and check that the song was added."
   ]
  },
  {
   "cell_type": "code",
   "execution_count": 34,
   "metadata": {},
   "outputs": [
    {
     "name": "stdout",
     "output_type": "stream",
     "text": [
      "Opening the recommended song \"BIRDS OF A FEATHER [Billie Eilish]\" in your browser...\n"
     ]
    }
   ],
   "source": [
    "# Programaticlaly open the url in the browser\n",
    "webbrowser.open(target_playlist_url)\n",
    "print(f'Opening the recommended song \"{create_track_label(random_song)}\" in your browser...')"
   ]
  }
 ],
 "metadata": {
  "kernelspec": {
   "display_name": "Python 3",
   "language": "python",
   "name": "python3"
  },
  "language_info": {
   "codemirror_mode": {
    "name": "ipython",
    "version": 3
   },
   "file_extension": ".py",
   "mimetype": "text/x-python",
   "name": "python",
   "nbconvert_exporter": "python",
   "pygments_lexer": "ipython3",
   "version": "3.12.5"
  }
 },
 "nbformat": 4,
 "nbformat_minor": 2
}
